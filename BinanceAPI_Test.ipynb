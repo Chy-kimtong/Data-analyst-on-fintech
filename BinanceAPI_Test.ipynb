{
  "nbformat": 4,
  "nbformat_minor": 0,
  "metadata": {
    "colab": {
      "provenance": []
    },
    "kernelspec": {
      "name": "python3",
      "display_name": "Python 3"
    },
    "language_info": {
      "name": "python"
    }
  },
  "cells": [
    {
      "cell_type": "code",
      "execution_count": null,
      "metadata": {
        "colab": {
          "base_uri": "https://localhost:8080/"
        },
        "id": "-q_nB2Evblbc",
        "outputId": "a47c92d9-5160-47b7-9a2a-08a96694e7ff"
      },
      "outputs": [
        {
          "output_type": "stream",
          "name": "stdout",
          "text": [
            "Collecting python-binance\n",
            "  Downloading python_binance-1.0.15-py2.py3-none-any.whl (63 kB)\n",
            "\u001b[?25l\r\u001b[K     |█████▏                          | 10 kB 22.1 MB/s eta 0:00:01\r\u001b[K     |██████████▎                     | 20 kB 28.3 MB/s eta 0:00:01\r\u001b[K     |███████████████▍                | 30 kB 16.1 MB/s eta 0:00:01\r\u001b[K     |████████████████████▌           | 40 kB 7.6 MB/s eta 0:00:01\r\u001b[K     |█████████████████████████▋      | 51 kB 8.9 MB/s eta 0:00:01\r\u001b[K     |██████████████████████████████▊ | 61 kB 9.2 MB/s eta 0:00:01\r\u001b[K     |████████████████████████████████| 63 kB 2.1 MB/s \n",
            "\u001b[?25hRequirement already satisfied: six in /usr/local/lib/python3.7/dist-packages (from python-binance) (1.15.0)\n",
            "Requirement already satisfied: requests in /usr/local/lib/python3.7/dist-packages (from python-binance) (2.23.0)\n",
            "Collecting websockets==9.1\n",
            "  Downloading websockets-9.1-cp37-cp37m-manylinux2010_x86_64.whl (103 kB)\n",
            "\u001b[K     |████████████████████████████████| 103 kB 17.2 MB/s \n",
            "\u001b[?25hCollecting dateparser\n",
            "  Downloading dateparser-1.1.1-py2.py3-none-any.whl (288 kB)\n",
            "\u001b[K     |████████████████████████████████| 288 kB 56.1 MB/s \n",
            "\u001b[?25hCollecting aiohttp\n",
            "  Downloading aiohttp-3.8.1-cp37-cp37m-manylinux_2_5_x86_64.manylinux1_x86_64.manylinux_2_12_x86_64.manylinux2010_x86_64.whl (1.1 MB)\n",
            "\u001b[K     |████████████████████████████████| 1.1 MB 45.9 MB/s \n",
            "\u001b[?25hCollecting ujson\n",
            "  Downloading ujson-5.1.0-cp37-cp37m-manylinux_2_17_x86_64.manylinux2014_x86_64.whl (43 kB)\n",
            "\u001b[K     |████████████████████████████████| 43 kB 2.7 MB/s \n",
            "\u001b[?25hCollecting frozenlist>=1.1.1\n",
            "  Downloading frozenlist-1.3.0-cp37-cp37m-manylinux_2_5_x86_64.manylinux1_x86_64.manylinux_2_17_x86_64.manylinux2014_x86_64.whl (144 kB)\n",
            "\u001b[K     |████████████████████████████████| 144 kB 57.8 MB/s \n",
            "\u001b[?25hRequirement already satisfied: attrs>=17.3.0 in /usr/local/lib/python3.7/dist-packages (from aiohttp->python-binance) (21.4.0)\n",
            "Collecting yarl<2.0,>=1.0\n",
            "  Downloading yarl-1.7.2-cp37-cp37m-manylinux_2_5_x86_64.manylinux1_x86_64.manylinux_2_12_x86_64.manylinux2010_x86_64.whl (271 kB)\n",
            "\u001b[K     |████████████████████████████████| 271 kB 73.1 MB/s \n",
            "\u001b[?25hCollecting asynctest==0.13.0\n",
            "  Downloading asynctest-0.13.0-py3-none-any.whl (26 kB)\n",
            "Requirement already satisfied: typing-extensions>=3.7.4 in /usr/local/lib/python3.7/dist-packages (from aiohttp->python-binance) (3.10.0.2)\n",
            "Collecting aiosignal>=1.1.2\n",
            "  Downloading aiosignal-1.2.0-py3-none-any.whl (8.2 kB)\n",
            "Collecting multidict<7.0,>=4.5\n",
            "  Downloading multidict-6.0.2-cp37-cp37m-manylinux_2_17_x86_64.manylinux2014_x86_64.whl (94 kB)\n",
            "\u001b[K     |████████████████████████████████| 94 kB 4.3 MB/s \n",
            "\u001b[?25hCollecting async-timeout<5.0,>=4.0.0a3\n",
            "  Downloading async_timeout-4.0.2-py3-none-any.whl (5.8 kB)\n",
            "Requirement already satisfied: charset-normalizer<3.0,>=2.0 in /usr/local/lib/python3.7/dist-packages (from aiohttp->python-binance) (2.0.12)\n",
            "Requirement already satisfied: idna>=2.0 in /usr/local/lib/python3.7/dist-packages (from yarl<2.0,>=1.0->aiohttp->python-binance) (2.10)\n",
            "Requirement already satisfied: regex!=2019.02.19,!=2021.8.27,<2022.3.15 in /usr/local/lib/python3.7/dist-packages (from dateparser->python-binance) (2019.12.20)\n",
            "Requirement already satisfied: pytz in /usr/local/lib/python3.7/dist-packages (from dateparser->python-binance) (2018.9)\n",
            "Requirement already satisfied: tzlocal in /usr/local/lib/python3.7/dist-packages (from dateparser->python-binance) (1.5.1)\n",
            "Requirement already satisfied: python-dateutil in /usr/local/lib/python3.7/dist-packages (from dateparser->python-binance) (2.8.2)\n",
            "Requirement already satisfied: certifi>=2017.4.17 in /usr/local/lib/python3.7/dist-packages (from requests->python-binance) (2021.10.8)\n",
            "Requirement already satisfied: urllib3!=1.25.0,!=1.25.1,<1.26,>=1.21.1 in /usr/local/lib/python3.7/dist-packages (from requests->python-binance) (1.24.3)\n",
            "Requirement already satisfied: chardet<4,>=3.0.2 in /usr/local/lib/python3.7/dist-packages (from requests->python-binance) (3.0.4)\n",
            "Installing collected packages: multidict, frozenlist, yarl, asynctest, async-timeout, aiosignal, websockets, ujson, dateparser, aiohttp, python-binance\n",
            "Successfully installed aiohttp-3.8.1 aiosignal-1.2.0 async-timeout-4.0.2 asynctest-0.13.0 dateparser-1.1.1 frozenlist-1.3.0 multidict-6.0.2 python-binance-1.0.15 ujson-5.1.0 websockets-9.1 yarl-1.7.2\n",
            "Collecting binance-futures-connector\n",
            "  Downloading binance_futures_connector-1.10.0-py3-none-any.whl (34 kB)\n",
            "Collecting pyOpenSSL==19.0.0\n",
            "  Downloading pyOpenSSL-19.0.0-py2.py3-none-any.whl (53 kB)\n",
            "\u001b[K     |████████████████████████████████| 53 kB 762 kB/s \n",
            "\u001b[?25hCollecting service-identity==21.1.0\n",
            "  Downloading service_identity-21.1.0-py2.py3-none-any.whl (12 kB)\n",
            "Collecting Twisted==22.2.0\n",
            "  Downloading Twisted-22.2.0-py3-none-any.whl (3.1 MB)\n",
            "\u001b[K     |████████████████████████████████| 3.1 MB 16.7 MB/s \n",
            "\u001b[?25hCollecting autobahn==21.2.1\n",
            "  Downloading autobahn-21.2.1-py2.py3-none-any.whl (486 kB)\n",
            "\u001b[K     |████████████████████████████████| 486 kB 42.0 MB/s \n",
            "\u001b[?25hCollecting requests==2.25.1\n",
            "  Downloading requests-2.25.1-py2.py3-none-any.whl (61 kB)\n",
            "\u001b[K     |████████████████████████████████| 61 kB 5.5 MB/s \n",
            "\u001b[?25hCollecting txaio>=20.4.1\n",
            "  Downloading txaio-22.2.1-py2.py3-none-any.whl (30 kB)\n",
            "Collecting cryptography>=2.9.2\n",
            "  Downloading cryptography-36.0.2-cp36-abi3-manylinux_2_24_x86_64.whl (3.6 MB)\n",
            "\u001b[K     |████████████████████████████████| 3.6 MB 31.0 MB/s \n",
            "\u001b[?25hCollecting hyperlink>=20.0.1\n",
            "  Downloading hyperlink-21.0.0-py2.py3-none-any.whl (74 kB)\n",
            "\u001b[K     |████████████████████████████████| 74 kB 1.7 MB/s \n",
            "\u001b[?25hRequirement already satisfied: six>=1.5.2 in /usr/local/lib/python3.7/dist-packages (from pyOpenSSL==19.0.0->binance-futures-connector) (1.15.0)\n",
            "Requirement already satisfied: idna<3,>=2.5 in /usr/local/lib/python3.7/dist-packages (from requests==2.25.1->binance-futures-connector) (2.10)\n",
            "Requirement already satisfied: chardet<5,>=3.0.2 in /usr/local/lib/python3.7/dist-packages (from requests==2.25.1->binance-futures-connector) (3.0.4)\n",
            "Requirement already satisfied: urllib3<1.27,>=1.21.1 in /usr/local/lib/python3.7/dist-packages (from requests==2.25.1->binance-futures-connector) (1.24.3)\n",
            "Requirement already satisfied: certifi>=2017.4.17 in /usr/local/lib/python3.7/dist-packages (from requests==2.25.1->binance-futures-connector) (2021.10.8)\n",
            "Requirement already satisfied: attrs>=19.1.0 in /usr/local/lib/python3.7/dist-packages (from service-identity==21.1.0->binance-futures-connector) (21.4.0)\n",
            "Requirement already satisfied: pyasn1 in /usr/local/lib/python3.7/dist-packages (from service-identity==21.1.0->binance-futures-connector) (0.4.8)\n",
            "Requirement already satisfied: pyasn1-modules in /usr/local/lib/python3.7/dist-packages (from service-identity==21.1.0->binance-futures-connector) (0.2.8)\n",
            "Collecting constantly>=15.1\n",
            "  Downloading constantly-15.1.0-py2.py3-none-any.whl (7.9 kB)\n",
            "Collecting incremental>=21.3.0\n",
            "  Downloading incremental-21.3.0-py2.py3-none-any.whl (15 kB)\n",
            "Collecting Automat>=0.8.0\n",
            "  Downloading Automat-20.2.0-py2.py3-none-any.whl (31 kB)\n",
            "Requirement already satisfied: typing-extensions>=3.6.5 in /usr/local/lib/python3.7/dist-packages (from Twisted==22.2.0->binance-futures-connector) (3.10.0.2)\n",
            "Collecting zope.interface>=4.4.2\n",
            "  Downloading zope.interface-5.4.0-cp37-cp37m-manylinux2010_x86_64.whl (251 kB)\n",
            "\u001b[K     |████████████████████████████████| 251 kB 48.0 MB/s \n",
            "\u001b[?25hRequirement already satisfied: cffi>=1.12 in /usr/local/lib/python3.7/dist-packages (from cryptography>=2.9.2->autobahn==21.2.1->binance-futures-connector) (1.15.0)\n",
            "Requirement already satisfied: pycparser in /usr/local/lib/python3.7/dist-packages (from cffi>=1.12->cryptography>=2.9.2->autobahn==21.2.1->binance-futures-connector) (2.21)\n",
            "Requirement already satisfied: setuptools in /usr/local/lib/python3.7/dist-packages (from zope.interface>=4.4.2->Twisted==22.2.0->binance-futures-connector) (57.4.0)\n",
            "Installing collected packages: zope.interface, txaio, incremental, hyperlink, cryptography, constantly, Automat, Twisted, service-identity, requests, pyOpenSSL, autobahn, binance-futures-connector\n",
            "  Attempting uninstall: requests\n",
            "    Found existing installation: requests 2.23.0\n",
            "    Uninstalling requests-2.23.0:\n",
            "      Successfully uninstalled requests-2.23.0\n",
            "\u001b[31mERROR: pip's dependency resolver does not currently take into account all the packages that are installed. This behaviour is the source of the following dependency conflicts.\n",
            "google-colab 1.0.0 requires requests~=2.23.0, but you have requests 2.25.1 which is incompatible.\n",
            "datascience 0.10.6 requires folium==0.2.1, but you have folium 0.8.3 which is incompatible.\u001b[0m\n",
            "Successfully installed Automat-20.2.0 Twisted-22.2.0 autobahn-21.2.1 binance-futures-connector-1.10.0 constantly-15.1.0 cryptography-36.0.2 hyperlink-21.0.0 incremental-21.3.0 pyOpenSSL-19.0.0 requests-2.25.1 service-identity-21.1.0 txaio-22.2.1 zope.interface-5.4.0\n",
            "Requirement already satisfied: requests in /usr/local/lib/python3.7/dist-packages (2.25.1)\n",
            "Requirement already satisfied: urllib3<1.27,>=1.21.1 in /usr/local/lib/python3.7/dist-packages (from requests) (1.24.3)\n",
            "Requirement already satisfied: idna<3,>=2.5 in /usr/local/lib/python3.7/dist-packages (from requests) (2.10)\n",
            "Requirement already satisfied: certifi>=2017.4.17 in /usr/local/lib/python3.7/dist-packages (from requests) (2021.10.8)\n",
            "Requirement already satisfied: chardet<5,>=3.0.2 in /usr/local/lib/python3.7/dist-packages (from requests) (3.0.4)\n"
          ]
        }
      ],
      "source": [
        "!pip install python-binance\n",
        "!pip install binance-futures-connector\n",
        "!pip install requests"
      ]
    },
    {
      "cell_type": "code",
      "source": [
        "import os\n",
        "import requests\n",
        "import pandas as pd\n",
        "from binance.client import Client\n",
        "# init #Binance Testnet API\n",
        "API_Key = \"0727db89ccf6d53b11ac071fdd346af9593c125c71df40cca50726514f2cf39c\"\n",
        "API_Secret = \"54db514780988524fe5832c8b469ef40a46627e6c3900aa8d3ebbcdf306ce788\"\n",
        "\n",
        "client = Client(API_Key, API_Secret, testnet = True)\n",
        "\n",
        "#Get our information\n",
        "# get balances for futures account\n",
        "account = client.futures_account_balance()\n",
        "asset = pd.DataFrame(account)\n",
        "print(asset)\n",
        "print()\n",
        "# check wheather system work or under maintenance\n",
        "status = client.get_system_status()\n",
        "print(status)\n",
        "print()\n",
        "# check the detatil of the exchange in symbol\n",
        "info = client.get_exchange_info()\n",
        "for i in info:\n",
        "  print(i)\n",
        "print()\n",
        "# get the specific symbol u need\n",
        "print(client.get_symbol_info('BTCBUSD'))\n",
        "print()\n",
        "# Get info of price of coins (available for deposit and withdraw) for user\n",
        "infoCoin = client.get_all_tickers()\n",
        "for i in infoCoin:\n",
        "  print(i)  #price update every run\n",
        "print()\n",
        "\n",
        "# last price of BTCBUSD\n",
        "print(client.get_symbol_ticker( symbol = 'BTCBUSD')['price'])\n",
        "\n"
      ],
      "metadata": {
        "colab": {
          "base_uri": "https://localhost:8080/"
        },
        "id": "B3_OSSoDcMEX",
        "outputId": "fb7076d3-37ef-4dde-e3fc-1c0e30d398a7"
      },
      "execution_count": null,
      "outputs": [
        {
          "output_type": "stream",
          "name": "stdout",
          "text": [
            "   accountAlias asset         balance withdrawAvailable     updateTime\n",
            "0  oCSgSgTisRAu   BNB      0.00000000        0.00000000              0\n",
            "1  oCSgSgTisRAu  USDT  99993.08874800    99993.08874800  1647334170268\n",
            "2  oCSgSgTisRAu  BUSD      0.00000000        0.00000000              0\n",
            "\n",
            "{'status': 0, 'msg': 'normal'}\n",
            "\n",
            "timezone\n",
            "serverTime\n",
            "rateLimits\n",
            "exchangeFilters\n",
            "symbols\n",
            "\n",
            "{'symbol': 'BTCBUSD', 'status': 'TRADING', 'baseAsset': 'BTC', 'baseAssetPrecision': 8, 'quoteAsset': 'BUSD', 'quotePrecision': 8, 'quoteAssetPrecision': 8, 'baseCommissionPrecision': 8, 'quoteCommissionPrecision': 8, 'orderTypes': ['LIMIT', 'LIMIT_MAKER', 'MARKET', 'STOP_LOSS_LIMIT', 'TAKE_PROFIT_LIMIT'], 'icebergAllowed': True, 'ocoAllowed': True, 'quoteOrderQtyMarketAllowed': True, 'allowTrailingStop': True, 'isSpotTradingAllowed': True, 'isMarginTradingAllowed': False, 'filters': [{'filterType': 'PRICE_FILTER', 'minPrice': '0.01000000', 'maxPrice': '1000000.00000000', 'tickSize': '0.01000000'}, {'filterType': 'PERCENT_PRICE', 'multiplierUp': '5', 'multiplierDown': '0.2', 'avgPriceMins': 5}, {'filterType': 'LOT_SIZE', 'minQty': '0.00000100', 'maxQty': '900.00000000', 'stepSize': '0.00000100'}, {'filterType': 'MIN_NOTIONAL', 'minNotional': '10.00000000', 'applyToMarket': True, 'avgPriceMins': 5}, {'filterType': 'ICEBERG_PARTS', 'limit': 10}, {'filterType': 'MARKET_LOT_SIZE', 'minQty': '0.00000000', 'maxQty': '100.00000000', 'stepSize': '0.00000000'}, {'filterType': 'MAX_NUM_ORDERS', 'maxNumOrders': 200}, {'filterType': 'MAX_NUM_ALGO_ORDERS', 'maxNumAlgoOrders': 5}], 'permissions': ['SPOT']}\n",
            "\n",
            "{'symbol': 'BNBBUSD', 'price': '388.50000000'}\n",
            "{'symbol': 'BTCBUSD', 'price': '40819.11000000'}\n",
            "{'symbol': 'ETHBUSD', 'price': '2807.70000000'}\n",
            "{'symbol': 'LTCBUSD', 'price': '109.60000000'}\n",
            "{'symbol': 'TRXBUSD', 'price': '0.06071000'}\n",
            "{'symbol': 'XRPBUSD', 'price': '0.79170000'}\n",
            "{'symbol': 'BNBUSDT', 'price': '388.40000000'}\n",
            "{'symbol': 'BTCUSDT', 'price': '40797.90000000'}\n",
            "{'symbol': 'ETHUSDT', 'price': '2806.06000000'}\n",
            "{'symbol': 'LTCUSDT', 'price': '109.60000000'}\n",
            "{'symbol': 'TRXUSDT', 'price': '0.06067000'}\n",
            "{'symbol': 'XRPUSDT', 'price': '0.79140000'}\n",
            "{'symbol': 'BNBBTC', 'price': '0.00951800'}\n",
            "{'symbol': 'ETHBTC', 'price': '0.06877900'}\n",
            "{'symbol': 'LTCBTC', 'price': '0.00268600'}\n",
            "{'symbol': 'TRXBTC', 'price': '0.00000149'}\n",
            "{'symbol': 'XRPBTC', 'price': '0.00001939'}\n",
            "{'symbol': 'LTCBNB', 'price': '0.28210000'}\n",
            "{'symbol': 'TRXBNB', 'price': '0.00015610'}\n",
            "{'symbol': 'XRPBNB', 'price': '0.00203700'}\n",
            "\n",
            "40819.06000000\n"
          ]
        }
      ]
    },
    {
      "cell_type": "code",
      "source": [
        "agg_trades = client.aggregate_trade_iter(symbol='ETHBTC', start_str='30 minutes ago UTC')\n",
        "\n",
        "# iterate over the trade iterator\n",
        "for trade in agg_trades:\n",
        "    print(trade)\n",
        "    # do something with the trade data\n",
        "\n",
        "# convert the iterator to a list\n",
        "# note: generators can only be iterated over once so we need to call it again\n",
        "agg_trades = client.aggregate_trade_iter(symbol='ETHBTC',start_str='30 minutes ago UTC')\n",
        "agg_trade_list = list(agg_trades)\n",
        "\n",
        "# example using last_id value\n",
        "agg_trades = client.aggregate_trade_iter(symbol='ETHBTC', last_id=23380478)\n",
        "\n",
        "agg_trade_list = list(agg_trades)"
      ],
      "metadata": {
        "id": "ao9xQ25mA-y4"
      },
      "execution_count": null,
      "outputs": []
    },
    {
      "cell_type": "code",
      "source": [
        "tickers = client.get_ticker() #get 24h market\n",
        "# tickers = client.get_orderbook_tickers()\n",
        "\n",
        "for i in tickers:\n",
        "  print(i)"
      ],
      "metadata": {
        "colab": {
          "base_uri": "https://localhost:8080/"
        },
        "id": "jwu3Hbb7PAmo",
        "outputId": "febe78dd-c5f7-4343-e2f1-70aa9924d75d"
      },
      "execution_count": null,
      "outputs": [
        {
          "output_type": "stream",
          "name": "stdout",
          "text": [
            "{'symbol': 'BNBBUSD', 'priceChange': '14.90000000', 'priceChangePercent': '3.955', 'weightedAvgPrice': '381.45689083', 'prevClosePrice': '376.60000000', 'lastPrice': '391.60000000', 'lastQty': '0.15000000', 'bidPrice': '391.60000000', 'bidQty': '1.54000000', 'askPrice': '391.70000000', 'askQty': '1.49000000', 'openPrice': '376.70000000', 'highPrice': '393.50000000', 'lowPrice': '129.50000000', 'volume': '10945.12000000', 'quoteVolume': '4175091.44500000', 'openTime': 1647435140395, 'closeTime': 1647521540395, 'firstId': 76177, 'lastId': 83622, 'count': 7446}\n",
            "{'symbol': 'BTCBUSD', 'priceChange': '579.62000000', 'priceChangePercent': '1.433', 'weightedAvgPrice': '40768.11093407', 'prevClosePrice': '40447.98000000', 'lastPrice': '41027.60000000', 'lastQty': '0.01779300', 'bidPrice': '41027.60000000', 'bidQty': '0.01779400', 'askPrice': '41028.10000000', 'askQty': '0.01998700', 'openPrice': '40447.98000000', 'highPrice': '42801.80000000', 'lowPrice': '36138.04000000', 'volume': '1297.89951300', 'quoteVolume': '52912911.32726516', 'openTime': 1647435140417, 'closeTime': 1647521540417, 'firstId': 1371919, 'lastId': 1506033, 'count': 134115}\n",
            "{'symbol': 'ETHBUSD', 'priceChange': '129.50000000', 'priceChangePercent': '4.841', 'weightedAvgPrice': '2737.44820257', 'prevClosePrice': '2674.79000000', 'lastPrice': '2804.29000000', 'lastQty': '0.21396000', 'bidPrice': '2804.12000000', 'bidQty': '0.22467000', 'askPrice': '2804.13000000', 'askQty': '0.35306000', 'openPrice': '2674.79000000', 'highPrice': '2818.63000000', 'lowPrice': '2633.69000000', 'volume': '13761.04225000', 'quoteVolume': '37670140.37279950', 'openTime': 1647435139756, 'closeTime': 1647521539756, 'firstId': 1056777, 'lastId': 1148721, 'count': 91945}\n",
            "{'symbol': 'LTCBUSD', 'priceChange': '2.70000000', 'priceChangePercent': '2.507', 'weightedAvgPrice': '109.02411004', 'prevClosePrice': '107.60000000', 'lastPrice': '110.40000000', 'lastQty': '6.88406000', 'bidPrice': '110.30000000', 'bidQty': '0.90662000', 'askPrice': '110.40000000', 'askQty': '5.61595000', 'openPrice': '107.70000000', 'highPrice': '111.60000000', 'lowPrice': '106.20000000', 'volume': '6955.70683000', 'quoteVolume': '758339.74686000', 'openTime': 1647435139635, 'closeTime': 1647521539635, 'firstId': 18205, 'lastId': 19351, 'count': 1147}\n",
            "{'symbol': 'TRXBUSD', 'priceChange': '0.00050000', 'priceChangePercent': '0.827', 'weightedAvgPrice': '0.06054895', 'prevClosePrice': '0.06045000', 'lastPrice': '0.06096000', 'lastQty': '11483.00000000', 'bidPrice': '0.06096000', 'bidQty': '15748.10000000', 'askPrice': '0.06097000', 'askQty': '13121.30000000', 'openPrice': '0.06046000', 'highPrice': '0.06113000', 'lowPrice': '0.05949000', 'volume': '49471148.50000000', 'quoteVolume': '2995426.03452000', 'openTime': 1647435133206, 'closeTime': 1647521533206, 'firstId': 37885, 'lastId': 43015, 'count': 5131}\n",
            "{'symbol': 'XRPBUSD', 'priceChange': '0.02550000', 'priceChangePercent': '3.316', 'weightedAvgPrice': '0.78251562', 'prevClosePrice': '0.76890000', 'lastPrice': '0.79460000', 'lastQty': '956.50000000', 'bidPrice': '0.79410000', 'bidQty': '1234.20000000', 'askPrice': '0.79420000', 'askQty': '755.50000000', 'openPrice': '0.76910000', 'highPrice': '0.79840000', 'lowPrice': '0.75970000', 'volume': '8637769.00000000', 'quoteVolume': '6759189.18416000', 'openTime': 1647435128353, 'closeTime': 1647521528353, 'firstId': 96136, 'lastId': 108243, 'count': 12108}\n",
            "{'symbol': 'BNBUSDT', 'priceChange': '14.90000000', 'priceChangePercent': '3.957', 'weightedAvgPrice': '379.74340997', 'prevClosePrice': '376.50000000', 'lastPrice': '391.40000000', 'lastQty': '0.03000000', 'bidPrice': '391.40000000', 'bidQty': '1.56000000', 'askPrice': '391.50000000', 'askQty': '6.13000000', 'openPrice': '376.50000000', 'highPrice': '393.40000000', 'lowPrice': '126.30000000', 'volume': '28317.53000000', 'quoteVolume': '10753395.40420000', 'openTime': 1647435139982, 'closeTime': 1647521539982, 'firstId': 984637, 'lastId': 1021463, 'count': 36827}\n",
            "{'symbol': 'BTCUSDT', 'priceChange': '565.67000000', 'priceChangePercent': '1.399', 'weightedAvgPrice': '40760.06574077', 'prevClosePrice': '40441.28000000', 'lastPrice': '41007.61000000', 'lastQty': '0.01000000', 'bidPrice': '41007.60000000', 'bidQty': '0.03950400', 'askPrice': '41007.61000000', 'askQty': '0.04003400', 'openPrice': '40441.94000000', 'highPrice': '195480.00000000', 'lowPrice': '38716.42000000', 'volume': '4380.74798100', 'quoteVolume': '178559575.69929286', 'openTime': 1647435140594, 'closeTime': 1647521540594, 'firstId': 2228335, 'lastId': 2419349, 'count': 191015}\n",
            "{'symbol': 'ETHUSDT', 'priceChange': '129.02000000', 'priceChangePercent': '4.825', 'weightedAvgPrice': '2735.54077623', 'prevClosePrice': '2673.77000000', 'lastPrice': '2802.79000000', 'lastQty': '0.07137000', 'bidPrice': '2802.79000000', 'bidQty': '0.13200000', 'askPrice': '2802.94000000', 'askQty': '0.31396000', 'openPrice': '2673.77000000', 'highPrice': '4833.22000000', 'lowPrice': '2165.09000000', 'volume': '13200.53965000', 'quoteVolume': '36110614.48078100', 'openTime': 1647435140260, 'closeTime': 1647521540260, 'firstId': 1006836, 'lastId': 1092357, 'count': 85522}\n",
            "{'symbol': 'LTCUSDT', 'priceChange': '3.00000000', 'priceChangePercent': '2.793', 'weightedAvgPrice': '108.03872773', 'prevClosePrice': '107.30000000', 'lastPrice': '110.40000000', 'lastQty': '11.32247000', 'bidPrice': '110.30000000', 'bidQty': '7.79692000', 'askPrice': '110.40000000', 'askQty': '7.06522000', 'openPrice': '107.40000000', 'highPrice': '111.60000000', 'lowPrice': '40.00000000', 'volume': '12236.73611000', 'quoteVolume': '1322041.40090460', 'openTime': 1647435049872, 'closeTime': 1647521449872, 'firstId': 33862, 'lastId': 36379, 'count': 2518}\n",
            "{'symbol': 'TRXUSDT', 'priceChange': '0.00054000', 'priceChangePercent': '0.894', 'weightedAvgPrice': '0.06049336', 'prevClosePrice': '0.06041000', 'lastPrice': '0.06095000', 'lastQty': '21329.10000000', 'bidPrice': '0.06093000', 'bidQty': '14442.90000000', 'askPrice': '0.06094000', 'askQty': '9353.50000000', 'openPrice': '0.06041000', 'highPrice': '0.06112000', 'lowPrice': '0.05943000', 'volume': '43836712.50000000', 'quoteVolume': '2651830.10543500', 'openTime': 1647435106774, 'closeTime': 1647521506774, 'firstId': 75796, 'lastId': 80906, 'count': 5111}\n",
            "{'symbol': 'XRPUSDT', 'priceChange': '0.02500000', 'priceChangePercent': '3.251', 'weightedAvgPrice': '0.78170492', 'prevClosePrice': '0.76880000', 'lastPrice': '0.79390000', 'lastQty': '881.80000000', 'bidPrice': '0.79380000', 'bidQty': '1159.00000000', 'askPrice': '0.79390000', 'askQty': '1108.50000000', 'openPrice': '0.76890000', 'highPrice': '0.79820000', 'lowPrice': '0.75930000', 'volume': '8740693.00000000', 'quoteVolume': '6832642.75621000', 'openTime': 1647435138419, 'closeTime': 1647521538419, 'firstId': 188457, 'lastId': 201565, 'count': 13109}\n",
            "{'symbol': 'BNBBTC', 'priceChange': '0.00023200', 'priceChangePercent': '2.491', 'weightedAvgPrice': '0.00957571', 'prevClosePrice': '0.00931300', 'lastPrice': '0.00954400', 'lastQty': '0.10000000', 'bidPrice': '0.00954400', 'bidQty': '0.64000000', 'askPrice': '0.00954500', 'askQty': '0.53000000', 'openPrice': '0.00931200', 'highPrice': '0.02806500', 'lowPrice': '0.00230000', 'volume': '7022.53000000', 'quoteVolume': '67.24572700', 'openTime': 1647435140546, 'closeTime': 1647521540546, 'firstId': 81367, 'lastId': 90707, 'count': 9341}\n",
            "{'symbol': 'ETHBTC', 'priceChange': '0.00222500', 'priceChangePercent': '3.365', 'weightedAvgPrice': '0.06702805', 'prevClosePrice': '0.06611500', 'lastPrice': '0.06834800', 'lastQty': '0.09511000', 'bidPrice': '0.06834900', 'bidQty': '0.11851000', 'askPrice': '0.06835000', 'askQty': '0.10242000', 'openPrice': '0.06612300', 'highPrice': '0.06837100', 'lowPrice': '0.02234200', 'volume': '1782.88801000', 'quoteVolume': '119.50350441', 'openTime': 1647435138479, 'closeTime': 1647521538479, 'firstId': 264971, 'lastId': 291402, 'count': 26432}\n",
            "{'symbol': 'LTCBTC', 'priceChange': '0.00003100', 'priceChangePercent': '1.166', 'weightedAvgPrice': '0.00267902', 'prevClosePrice': '0.00265800', 'lastPrice': '0.00269000', 'lastQty': '7.95541000', 'bidPrice': '0.00269000', 'bidQty': '0.40892000', 'askPrice': '0.00269100', 'askQty': '2.86139000', 'openPrice': '0.00265900', 'highPrice': '0.00271100', 'lowPrice': '0.00263500', 'volume': '4156.79375000', 'quoteVolume': '11.13615059', 'openTime': 1647435087648, 'closeTime': 1647521487648, 'firstId': 17660, 'lastId': 19380, 'count': 1721}\n",
            "{'symbol': 'TRXBTC', 'priceChange': '-0.00000001', 'priceChangePercent': '-0.671', 'weightedAvgPrice': '0.00000149', 'prevClosePrice': '0.00000150', 'lastPrice': '0.00000148', 'lastQty': '8513.60000000', 'bidPrice': '0.00000148', 'bidQty': '5743.30000000', 'askPrice': '0.00000149', 'askQty': '5637.60000000', 'openPrice': '0.00000149', 'highPrice': '0.00000151', 'lowPrice': '0.00000147', 'volume': '508162.40000000', 'quoteVolume': '0.75652254', 'openTime': 1647433275193, 'closeTime': 1647519675193, 'firstId': 5910, 'lastId': 6025, 'count': 116}\n",
            "{'symbol': 'XRPBTC', 'priceChange': '0.00000034', 'priceChangePercent': '1.789', 'weightedAvgPrice': '0.00001919', 'prevClosePrice': '0.00001902', 'lastPrice': '0.00001935', 'lastQty': '258.40000000', 'bidPrice': '0.00001935', 'bidQty': '144.80000000', 'askPrice': '0.00001936', 'askQty': '506.20000000', 'openPrice': '0.00001901', 'highPrice': '0.00001944', 'lowPrice': '0.00001887', 'volume': '731752.70000000', 'quoteVolume': '14.04296391', 'openTime': 1647435107723, 'closeTime': 1647521507723, 'firstId': 36658, 'lastId': 38809, 'count': 2152}\n",
            "{'symbol': 'LTCBNB', 'priceChange': '-0.00370000', 'priceChangePercent': '-1.295', 'weightedAvgPrice': '0.28548072', 'prevClosePrice': '0.28560000', 'lastPrice': '0.28200000', 'lastQty': '23.39596000', 'bidPrice': '0.28190000', 'bidQty': '32.99043000', 'askPrice': '0.28200000', 'askQty': '19.14894000', 'openPrice': '0.28570000', 'highPrice': '0.28950000', 'lowPrice': '0.28050000', 'volume': '1736.09862000', 'quoteVolume': '495.62267808', 'openTime': 1647435139178, 'closeTime': 1647521539178, 'firstId': 1502, 'lastId': 1586, 'count': 85}\n",
            "{'symbol': 'TRXBNB', 'priceChange': '-0.00000400', 'priceChangePercent': '-2.503', 'weightedAvgPrice': '0.00015835', 'prevClosePrice': '0.00016040', 'lastPrice': '0.00015580', 'lastQty': '44287.60000000', 'bidPrice': '0.00015560', 'bidQty': '61696.70000000', 'askPrice': '0.00015580', 'askQty': '60333.80000000', 'openPrice': '0.00015980', 'highPrice': '0.00016020', 'lowPrice': '0.00015490', 'volume': '2780405.60000000', 'quoteVolume': '440.27446719', 'openTime': 1647435122890, 'closeTime': 1647521522890, 'firstId': 1162, 'lastId': 1238, 'count': 77}\n",
            "{'symbol': 'XRPBNB', 'priceChange': '-0.00000900', 'priceChangePercent': '-0.441', 'weightedAvgPrice': '0.00204946', 'prevClosePrice': '0.00204200', 'lastPrice': '0.00203000', 'lastQty': '1525.60000000', 'bidPrice': '0.00202700', 'bidQty': '4884.10000000', 'askPrice': '0.00202900', 'askQty': '4041.40000000', 'openPrice': '0.00203900', 'highPrice': '0.00207300', 'lowPrice': '0.00201600', 'volume': '687805.50000000', 'quoteVolume': '1409.62678990', 'openTime': 1647435137482, 'closeTime': 1647521537482, 'firstId': 3487, 'lastId': 3714, 'count': 228}\n"
          ]
        }
      ]
    },
    {
      "cell_type": "code",
      "source": [
        "# get latest price from Binance API\n",
        "btc_price = client.get_symbol_ticker(symbol=\"BTCUSDT\")\n",
        "# print full output (dictionary)\n",
        "print(btc_price)\n",
        "print(btc_price[\"price\"])"
      ],
      "metadata": {
        "colab": {
          "base_uri": "https://localhost:8080/"
        },
        "id": "uo8UyzrA7XT3",
        "outputId": "3d15d01a-0114-4d10-8c7b-9924e459f999"
      },
      "execution_count": null,
      "outputs": [
        {
          "output_type": "stream",
          "name": "stdout",
          "text": [
            "{'symbol': 'BTCUSDT', 'price': '40712.00000000'}\n",
            "40712.00000000\n"
          ]
        }
      ]
    },
    {
      "cell_type": "code",
      "source": [
        "# valid intervals - 1m, 3m, 5m, 15m, 30m, 1h, 2h, 4h, 6h, 8h, 12h, 1d, 3d, 1w, 1M\n",
        "\n",
        "# get timestamp of earliest date data is available\n",
        "timestamp = client._get_earliest_valid_timestamp('BTCUSDT', '1d')\n",
        "print(timestamp)\n",
        "# request historical candle (or klines) data\n",
        "bars = client.get_historical_klines('BTCUSDT', '1d', timestamp, limit=1000)\n",
        "print(bars)"
      ],
      "metadata": {
        "colab": {
          "base_uri": "https://localhost:8080/"
        },
        "id": "DljGpbH4BKub",
        "outputId": "1f87739f-040b-4e82-ce2d-e722c884c152"
      },
      "execution_count": null,
      "outputs": [
        {
          "output_type": "stream",
          "name": "stdout",
          "text": [
            "1646179200000\n",
            "[[1646179200000, '44186.84000000', '100000.00000000', '9000.00000000', '43893.22000000', '2939.36453000', 1646265599999, '129317237.06436243', 117276, '1857.41182500', '81737912.73568710', '0'], [1646265600000, '43892.99000000', '90000.12000000', '9000.00000000', '42454.70000000', '3975.76394300', 1646351999999, '171242888.30584948', 156863, '2454.03238200', '105693442.34876215', '0'], [1646352000000, '42453.60000000', '42995.00000000', '9000.00000000', '39148.36000000', '4287.39319700', 1646438399999, '175276744.79309307', 163669, '2774.64607800', '113393383.57410168', '0'], [1646438400000, '39148.66000000', '40408.17000000', '7882.00000000', '39398.19000000', '3500.18310200', 1646524799999, '136976231.52356880', 122880, '2194.26330900', '85870085.41739844', '0'], [1646524800000, '39393.87000000', '39860.00000000', '20000.00000000', '38420.80000000', '3871.05522600', 1646611199999, '150792088.30651758', 135801, '2347.70278700', '91419745.10271749', '0'], [1646611200000, '38420.81000000', '41265.69000000', '7797.00000000', '38002.74000000', '5116.87723700', 1646697599999, '195752566.57188035', 189287, '3315.70553300', '126885280.51524292', '0'], [1646697600000, '38000.00000000', '41674.26000000', '9000.00000000', '38728.02000000', '5056.99729200', 1646783999999, '195365103.50446995', 184522, '3303.03138100', '127627371.62696325', '0'], [1646784000000, '38728.22000000', '42995.00000000', '38656.46000000', '41950.43000000', '4518.33871200', 1646870399999, '187535689.31071616', 172952, '2974.06573900', '123402627.67188130', '0'], [1646870400000, '41939.57000000', '42065.40000000', '10000.00000000', '39422.00000000', '4455.35600900', 1646956799999, '176484444.74817517', 162076, '2850.87508600', '112862580.69044582', '0'], [1646956800000, '39420.79000000', '40228.11000000', '37063.54000000', '38730.89000000', '4304.55804700', 1647043199999, '167772349.60714961', 152552, '2761.05676800', '107622541.48999077', '0'], [1647043200000, '38729.45000000', '39355.10000000', '38506.25000000', '38806.92000000', '3049.28741800', 1647129599999, '119218409.56187709', 109505, '1811.99449800', '70841181.12665482', '0'], [1647129600000, '38807.35000000', '40338.66000000', '37576.76000000', '37774.01000000', '3164.76668400', 1647215999999, '122892919.15220338', 114499, '1861.14939900', '72245179.80377224', '0'], [1647216000000, '37777.35000000', '204000.00000000', '7653.00000000', '39667.37000000', '4274.70252400', 1647302399999, '165728734.92241499', 154808, '2675.89672600', '103800105.08925450', '0'], [1647302400000, '39669.09000000', '194660.00000000', '37634.50000000', '39280.51000000', '4479.43193900', 1647388799999, '174713138.21165780', 179647, '2769.75000000', '108057222.06287147', '0'], [1647388800000, '39280.34000000', '195480.00000000', '37572.94000000', '41115.55000000', '4822.32431900', 1647475199999, '193966534.49170861', 201083, '3159.18109400', '127098548.02009833', '0'], [1647475200000, '41112.78000000', '41884.74000000', '38716.42000000', '40917.72000000', '3887.27504900', 1647561599999, '158926700.37754676', 174178, '2346.45335100', '95940936.33590620', '0'], [1647561600000, '40917.90000000', '41649.70000000', '37934.27000000', '40614.63000000', '1205.00564700', 1647647999999, '48935855.30309704', 53536, '690.35843400', '28044169.32813769', '0']]\n"
          ]
        }
      ]
    }
  ]
}