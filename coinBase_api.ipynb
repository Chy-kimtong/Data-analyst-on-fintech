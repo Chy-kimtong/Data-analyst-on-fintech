{
  "nbformat": 4,
  "nbformat_minor": 0,
  "metadata": {
    "colab": {
      "provenance": [],
      "authorship_tag": "ABX9TyMh0b/eO1rBhzoCMEBCtXRw",
      "include_colab_link": true
    },
    "kernelspec": {
      "name": "python3",
      "display_name": "Python 3"
    },
    "language_info": {
      "name": "python"
    }
  },
  "cells": [
    {
      "cell_type": "markdown",
      "metadata": {
        "id": "view-in-github",
        "colab_type": "text"
      },
      "source": [
        "<a href=\"https://colab.research.google.com/github/Chy-kimtong/Fintech-Training-2022/blob/main/coinBase_api.ipynb\" target=\"_parent\"><img src=\"https://colab.research.google.com/assets/colab-badge.svg\" alt=\"Open In Colab\"/></a>"
      ]
    },
    {
      "cell_type": "code",
      "source": [
        "pip install coinbase"
      ],
      "metadata": {
        "colab": {
          "base_uri": "https://localhost:8080/"
        },
        "id": "sY9FNXzPcmAn",
        "outputId": "4613e228-a39d-4f0d-e945-dec5e9012889"
      },
      "execution_count": null,
      "outputs": [
        {
          "output_type": "stream",
          "name": "stdout",
          "text": [
            "Requirement already satisfied: coinbase in /usr/local/lib/python3.7/dist-packages (2.1.0)\n",
            "Requirement already satisfied: pycryptodome>=3.4.11 in /usr/local/lib/python3.7/dist-packages (from coinbase) (3.14.1)\n",
            "Requirement already satisfied: six>=1.9 in /usr/local/lib/python3.7/dist-packages (from coinbase) (1.15.0)\n",
            "Requirement already satisfied: requests>=2.5 in /usr/local/lib/python3.7/dist-packages (from coinbase) (2.23.0)\n",
            "Requirement already satisfied: chardet<4,>=3.0.2 in /usr/local/lib/python3.7/dist-packages (from requests>=2.5->coinbase) (3.0.4)\n",
            "Requirement already satisfied: idna<3,>=2.5 in /usr/local/lib/python3.7/dist-packages (from requests>=2.5->coinbase) (2.10)\n",
            "Requirement already satisfied: certifi>=2017.4.17 in /usr/local/lib/python3.7/dist-packages (from requests>=2.5->coinbase) (2021.10.8)\n",
            "Requirement already satisfied: urllib3!=1.25.0,!=1.25.1,<1.26,>=1.21.1 in /usr/local/lib/python3.7/dist-packages (from requests>=2.5->coinbase) (1.24.3)\n"
          ]
        }
      ]
    },
    {
      "cell_type": "code",
      "source": [
        "from coinbase.wallet.client import Client\n",
        "from coinbase.wallet.model import APIObject\n",
        "import time\n",
        "import pandas as pd\n",
        "\n",
        "client = Client('VrKkI2ZsQOCJrwn4', '4aVjl7oj4fYzvNcxh6dVC96OHJiDiE1O')\n",
        "\n",
        "list_price = []\n",
        "stock_price = []\n",
        "pos_held = False\n",
        "\n",
        "\n",
        "#Get our information\n",
        "account = client.get_primary_account()\n",
        "asset = pd.DataFrame(account)\n",
        "print(asset)\n",
        "last_price_of_currency_pair = client.get_spot_price(currency_pair = 'BTC-USD')\n",
        "print(last_price_of_currency_pair)\n",
        "\n",
        "# get historical data of crypto within a specific time\n",
        "price = client._make_api_object(client._get('v2', 'prices', 'BTC-USD', 'historic'), APIObject)\n",
        "for i in price['prices']:\n",
        "  list_price.append(float(i['price'])) #since the price is start from present to the past so first index is the current pric\n",
        "\n",
        "\n",
        "#EMA Algorithm\n",
        "while True:\n",
        "\n",
        "  def calculate_ema(prices, days, smoothing = 2):\n",
        "    ema = [sum(prices[:days]) / days]\n",
        "    for price in prices[days:]:\n",
        "        ema.append((price * (smoothing / (1 + days))) + ema[-1] * (1 - (smoothing / (1 + days))))\n",
        "    return ema\n",
        "\n",
        "  ema = calculate_ema(list_price, len(list_price))[0]\n",
        "  last_price = last_price_of_currency_pair['amount']\n",
        "  print(\"Exponential Moving Average: \" + str(ema))\n",
        "  print(\"Last Price: \" + str(last_price))\n",
        "\n",
        "  buy_price = client.get_buy_price(currency='USD')\n",
        "  sell_price = client.get_sell_price(currency='USD')\n",
        "\n",
        "  #Buy\n",
        "  if float(buy_price['amount']) > ema and not pos_held: #If price is crossing EMA, and we haven't already bought -> so we buy it\n",
        "    print(\"Buy\")\n",
        "    buy = client.buy(account_id = '55f3f6f0-8e8d-5487-bd83-7952cc9751c8',amount='1', currency=\"BTC\")\n",
        "    pos_held = True\n",
        "    stock_price.append(last_price)\n",
        "  print(stock_price)\n",
        "\n",
        "  #Sell\n",
        "  if len(stock_price) != 0:\n",
        "    if float(sell_price['amount']) >= (stock_price[-1] + stock_price[-1] * 0.01) and pos_held:\n",
        "      print(\"Sell take profit\")\n",
        "      sell = client.sell(account_id = '55f3f6f0-8e8d-5487-bd83-7952cc9751c8', amount='1', currency=\"BTC\")\n",
        "      pos_held = False\n",
        "      stock_price.clear()\n",
        "    elif float(sell_price['amount']) <= (stock_price[-1] - stock_price[-1] * 0.03) and pos_held:\n",
        "      print(\"Sell stop loss\")\n",
        "      sell = client.sell(account_id = '55f3f6f0-8e8d-5487-bd83-7952cc9751c8', amount='1', currency=\"BTC\")\n",
        "      pos_held = False\n",
        "      stock_price.clear()\n",
        "\n",
        "    list_price.clear()\n",
        "  time.sleep(10) #Refresh every 10 seconds\n",
        "\n"
      ],
      "metadata": {
        "id": "bKFjZWTqcpDv",
        "colab": {
          "base_uri": "https://localhost:8080/",
          "height": 784
        },
        "outputId": "b3910eff-997a-4286-f507-e9f434d98162"
      },
      "execution_count": null,
      "outputs": [
        {
          "output_type": "stream",
          "name": "stdout",
          "text": [
            "                                            id        name  primary    type  \\\n",
            "amount    55f3f6f0-8e8d-5487-bd83-7952cc9751c8  BTC Wallet     True  wallet   \n",
            "currency  55f3f6f0-8e8d-5487-bd83-7952cc9751c8  BTC Wallet     True  wallet   \n",
            "\n",
            "         currency     balance            created_at            updated_at  \\\n",
            "amount        BTC  0.00000000  2022-03-31T10:10:20Z  2022-04-01T03:25:06Z   \n",
            "currency      BTC         BTC  2022-03-31T10:10:20Z  2022-04-01T03:25:06Z   \n",
            "\n",
            "         resource                                      resource_path  \\\n",
            "amount    account  /v2/accounts/55f3f6f0-8e8d-5487-bd83-7952cc9751c8   \n",
            "currency  account  /v2/accounts/55f3f6f0-8e8d-5487-bd83-7952cc9751c8   \n",
            "\n",
            "          allow_deposits  allow_withdrawals native_balance  \n",
            "amount              True               True           0.00  \n",
            "currency            True               True            USD  \n",
            "{\n",
            "  \"amount\": \"40590.65\",\n",
            "  \"base\": \"BTC\",\n",
            "  \"currency\": \"USD\"\n",
            "}\n",
            "Exponential Moving Average: 40511.16561452512\n",
            "Last Price: 40590.65\n",
            "Buy\n"
          ]
        },
        {
          "output_type": "error",
          "ename": "InvalidRequestError",
          "evalue": "ignored",
          "traceback": [
            "\u001b[0;31m---------------------------------------------------------------------------\u001b[0m",
            "\u001b[0;31mInvalidRequestError\u001b[0m                       Traceback (most recent call last)",
            "\u001b[0;32m<ipython-input-23-2c71629f4a83>\u001b[0m in \u001b[0;36m<module>\u001b[0;34m()\u001b[0m\n\u001b[1;32m     44\u001b[0m   \u001b[0;32mif\u001b[0m \u001b[0mfloat\u001b[0m\u001b[0;34m(\u001b[0m\u001b[0mbuy_price\u001b[0m\u001b[0;34m[\u001b[0m\u001b[0;34m'amount'\u001b[0m\u001b[0;34m]\u001b[0m\u001b[0;34m)\u001b[0m \u001b[0;34m>\u001b[0m \u001b[0mema\u001b[0m \u001b[0;32mand\u001b[0m \u001b[0;32mnot\u001b[0m \u001b[0mpos_held\u001b[0m\u001b[0;34m:\u001b[0m \u001b[0;31m#If price is crossing EMA, and we haven't already bought -> so we buy it\u001b[0m\u001b[0;34m\u001b[0m\u001b[0;34m\u001b[0m\u001b[0m\n\u001b[1;32m     45\u001b[0m     \u001b[0mprint\u001b[0m\u001b[0;34m(\u001b[0m\u001b[0;34m\"Buy\"\u001b[0m\u001b[0;34m)\u001b[0m\u001b[0;34m\u001b[0m\u001b[0;34m\u001b[0m\u001b[0m\n\u001b[0;32m---> 46\u001b[0;31m     \u001b[0mbuy\u001b[0m \u001b[0;34m=\u001b[0m \u001b[0mclient\u001b[0m\u001b[0;34m.\u001b[0m\u001b[0mbuy\u001b[0m\u001b[0;34m(\u001b[0m\u001b[0maccount_id\u001b[0m \u001b[0;34m=\u001b[0m \u001b[0;34m'55f3f6f0-8e8d-5487-bd83-7952cc9751c8'\u001b[0m\u001b[0;34m,\u001b[0m\u001b[0mamount\u001b[0m\u001b[0;34m=\u001b[0m\u001b[0;34m'1'\u001b[0m\u001b[0;34m,\u001b[0m \u001b[0mcurrency\u001b[0m\u001b[0;34m=\u001b[0m\u001b[0;34m\"BTC\"\u001b[0m\u001b[0;34m)\u001b[0m\u001b[0;34m\u001b[0m\u001b[0;34m\u001b[0m\u001b[0m\n\u001b[0m\u001b[1;32m     47\u001b[0m     \u001b[0mpos_held\u001b[0m \u001b[0;34m=\u001b[0m \u001b[0;32mTrue\u001b[0m\u001b[0;34m\u001b[0m\u001b[0;34m\u001b[0m\u001b[0m\n\u001b[1;32m     48\u001b[0m     \u001b[0mstock_price\u001b[0m\u001b[0;34m.\u001b[0m\u001b[0mappend\u001b[0m\u001b[0;34m(\u001b[0m\u001b[0mlast_price\u001b[0m\u001b[0;34m)\u001b[0m\u001b[0;34m\u001b[0m\u001b[0;34m\u001b[0m\u001b[0m\n",
            "\u001b[0;32m/usr/local/lib/python3.7/dist-packages/coinbase/wallet/client.py\u001b[0m in \u001b[0;36mbuy\u001b[0;34m(self, account_id, **params)\u001b[0m\n\u001b[1;32m    405\u001b[0m     \u001b[0;32mif\u001b[0m \u001b[0;34m'amount'\u001b[0m \u001b[0;32mnot\u001b[0m \u001b[0;32min\u001b[0m \u001b[0mparams\u001b[0m \u001b[0;32mand\u001b[0m \u001b[0;34m'total'\u001b[0m \u001b[0;32mnot\u001b[0m \u001b[0;32min\u001b[0m \u001b[0mparams\u001b[0m\u001b[0;34m:\u001b[0m\u001b[0;34m\u001b[0m\u001b[0;34m\u001b[0m\u001b[0m\n\u001b[1;32m    406\u001b[0m       \u001b[0;32mraise\u001b[0m \u001b[0mValueError\u001b[0m\u001b[0;34m(\u001b[0m\u001b[0;34m\"Missing required parameter: 'amount' or 'total'\"\u001b[0m\u001b[0;34m)\u001b[0m\u001b[0;34m\u001b[0m\u001b[0;34m\u001b[0m\u001b[0m\n\u001b[0;32m--> 407\u001b[0;31m     \u001b[0mresponse\u001b[0m \u001b[0;34m=\u001b[0m \u001b[0mself\u001b[0m\u001b[0;34m.\u001b[0m\u001b[0m_post\u001b[0m\u001b[0;34m(\u001b[0m\u001b[0;34m'v2'\u001b[0m\u001b[0;34m,\u001b[0m \u001b[0;34m'accounts'\u001b[0m\u001b[0;34m,\u001b[0m \u001b[0maccount_id\u001b[0m\u001b[0;34m,\u001b[0m \u001b[0;34m'buys'\u001b[0m\u001b[0;34m,\u001b[0m \u001b[0mdata\u001b[0m\u001b[0;34m=\u001b[0m\u001b[0mparams\u001b[0m\u001b[0;34m)\u001b[0m\u001b[0;34m\u001b[0m\u001b[0;34m\u001b[0m\u001b[0m\n\u001b[0m\u001b[1;32m    408\u001b[0m     \u001b[0;32mreturn\u001b[0m \u001b[0mself\u001b[0m\u001b[0;34m.\u001b[0m\u001b[0m_make_api_object\u001b[0m\u001b[0;34m(\u001b[0m\u001b[0mresponse\u001b[0m\u001b[0;34m,\u001b[0m \u001b[0mBuy\u001b[0m\u001b[0;34m)\u001b[0m\u001b[0;34m\u001b[0m\u001b[0;34m\u001b[0m\u001b[0m\n\u001b[1;32m    409\u001b[0m \u001b[0;34m\u001b[0m\u001b[0m\n",
            "\u001b[0;32m/usr/local/lib/python3.7/dist-packages/coinbase/wallet/client.py\u001b[0m in \u001b[0;36m_post\u001b[0;34m(self, *args, **kwargs)\u001b[0m\n\u001b[1;32m    130\u001b[0m \u001b[0;34m\u001b[0m\u001b[0m\n\u001b[1;32m    131\u001b[0m   \u001b[0;32mdef\u001b[0m \u001b[0m_post\u001b[0m\u001b[0;34m(\u001b[0m\u001b[0mself\u001b[0m\u001b[0;34m,\u001b[0m \u001b[0;34m*\u001b[0m\u001b[0margs\u001b[0m\u001b[0;34m,\u001b[0m \u001b[0;34m**\u001b[0m\u001b[0mkwargs\u001b[0m\u001b[0;34m)\u001b[0m\u001b[0;34m:\u001b[0m\u001b[0;34m\u001b[0m\u001b[0;34m\u001b[0m\u001b[0m\n\u001b[0;32m--> 132\u001b[0;31m     \u001b[0;32mreturn\u001b[0m \u001b[0mself\u001b[0m\u001b[0;34m.\u001b[0m\u001b[0m_request\u001b[0m\u001b[0;34m(\u001b[0m\u001b[0;34m'post'\u001b[0m\u001b[0;34m,\u001b[0m \u001b[0;34m*\u001b[0m\u001b[0margs\u001b[0m\u001b[0;34m,\u001b[0m \u001b[0;34m**\u001b[0m\u001b[0mkwargs\u001b[0m\u001b[0;34m)\u001b[0m\u001b[0;34m\u001b[0m\u001b[0;34m\u001b[0m\u001b[0m\n\u001b[0m\u001b[1;32m    133\u001b[0m \u001b[0;34m\u001b[0m\u001b[0m\n\u001b[1;32m    134\u001b[0m   \u001b[0;32mdef\u001b[0m \u001b[0m_put\u001b[0m\u001b[0;34m(\u001b[0m\u001b[0mself\u001b[0m\u001b[0;34m,\u001b[0m \u001b[0;34m*\u001b[0m\u001b[0margs\u001b[0m\u001b[0;34m,\u001b[0m \u001b[0;34m**\u001b[0m\u001b[0mkwargs\u001b[0m\u001b[0;34m)\u001b[0m\u001b[0;34m:\u001b[0m\u001b[0;34m\u001b[0m\u001b[0;34m\u001b[0m\u001b[0m\n",
            "\u001b[0;32m/usr/local/lib/python3.7/dist-packages/coinbase/wallet/client.py\u001b[0m in \u001b[0;36m_request\u001b[0;34m(self, method, *relative_path_parts, **kwargs)\u001b[0m\n\u001b[1;32m    114\u001b[0m     \u001b[0mkwargs\u001b[0m\u001b[0;34m.\u001b[0m\u001b[0mupdate\u001b[0m\u001b[0;34m(\u001b[0m\u001b[0mverify\u001b[0m\u001b[0;34m=\u001b[0m\u001b[0mself\u001b[0m\u001b[0;34m.\u001b[0m\u001b[0mVERIFY_SSL\u001b[0m\u001b[0;34m)\u001b[0m\u001b[0;34m\u001b[0m\u001b[0;34m\u001b[0m\u001b[0m\n\u001b[1;32m    115\u001b[0m     \u001b[0mresponse\u001b[0m \u001b[0;34m=\u001b[0m \u001b[0mgetattr\u001b[0m\u001b[0;34m(\u001b[0m\u001b[0mself\u001b[0m\u001b[0;34m.\u001b[0m\u001b[0msession\u001b[0m\u001b[0;34m,\u001b[0m \u001b[0mmethod\u001b[0m\u001b[0;34m)\u001b[0m\u001b[0;34m(\u001b[0m\u001b[0muri\u001b[0m\u001b[0;34m,\u001b[0m \u001b[0;34m**\u001b[0m\u001b[0mkwargs\u001b[0m\u001b[0;34m)\u001b[0m\u001b[0;34m\u001b[0m\u001b[0;34m\u001b[0m\u001b[0m\n\u001b[0;32m--> 116\u001b[0;31m     \u001b[0;32mreturn\u001b[0m \u001b[0mself\u001b[0m\u001b[0;34m.\u001b[0m\u001b[0m_handle_response\u001b[0m\u001b[0;34m(\u001b[0m\u001b[0mresponse\u001b[0m\u001b[0;34m)\u001b[0m\u001b[0;34m\u001b[0m\u001b[0;34m\u001b[0m\u001b[0m\n\u001b[0m\u001b[1;32m    117\u001b[0m \u001b[0;34m\u001b[0m\u001b[0m\n\u001b[1;32m    118\u001b[0m   \u001b[0;32mdef\u001b[0m \u001b[0m_handle_response\u001b[0m\u001b[0;34m(\u001b[0m\u001b[0mself\u001b[0m\u001b[0;34m,\u001b[0m \u001b[0mresponse\u001b[0m\u001b[0;34m)\u001b[0m\u001b[0;34m:\u001b[0m\u001b[0;34m\u001b[0m\u001b[0;34m\u001b[0m\u001b[0m\n",
            "\u001b[0;32m/usr/local/lib/python3.7/dist-packages/coinbase/wallet/client.py\u001b[0m in \u001b[0;36m_handle_response\u001b[0;34m(self, response)\u001b[0m\n\u001b[1;32m    123\u001b[0m     \"\"\"\n\u001b[1;32m    124\u001b[0m     \u001b[0;32mif\u001b[0m \u001b[0;32mnot\u001b[0m \u001b[0mstr\u001b[0m\u001b[0;34m(\u001b[0m\u001b[0mresponse\u001b[0m\u001b[0;34m.\u001b[0m\u001b[0mstatus_code\u001b[0m\u001b[0;34m)\u001b[0m\u001b[0;34m.\u001b[0m\u001b[0mstartswith\u001b[0m\u001b[0;34m(\u001b[0m\u001b[0;34m'2'\u001b[0m\u001b[0;34m)\u001b[0m\u001b[0;34m:\u001b[0m\u001b[0;34m\u001b[0m\u001b[0;34m\u001b[0m\u001b[0m\n\u001b[0;32m--> 125\u001b[0;31m       \u001b[0;32mraise\u001b[0m \u001b[0mbuild_api_error\u001b[0m\u001b[0;34m(\u001b[0m\u001b[0mresponse\u001b[0m\u001b[0;34m)\u001b[0m\u001b[0;34m\u001b[0m\u001b[0;34m\u001b[0m\u001b[0m\n\u001b[0m\u001b[1;32m    126\u001b[0m     \u001b[0;32mreturn\u001b[0m \u001b[0mresponse\u001b[0m\u001b[0;34m\u001b[0m\u001b[0;34m\u001b[0m\u001b[0m\n\u001b[1;32m    127\u001b[0m \u001b[0;34m\u001b[0m\u001b[0m\n",
            "\u001b[0;31mInvalidRequestError\u001b[0m: APIError(id=invalid_request): User is unable to buy"
          ]
        }
      ]
    },
    {
      "cell_type": "code",
      "source": [
        "print(buy_price)\n",
        "print(sell_price)\n"
      ],
      "metadata": {
        "colab": {
          "base_uri": "https://localhost:8080/"
        },
        "id": "OViCHi-Ysa4S",
        "outputId": "238fdc7b-484b-465d-dea2-245f2424e872"
      },
      "execution_count": null,
      "outputs": [
        {
          "output_type": "stream",
          "name": "stdout",
          "text": [
            "{\n",
            "  \"amount\": \"40816.46\",\n",
            "  \"base\": \"BTC\",\n",
            "  \"currency\": \"USD\"\n",
            "}\n",
            "{\n",
            "  \"amount\": \"40399.38\",\n",
            "  \"base\": \"BTC\",\n",
            "  \"currency\": \"USD\"\n",
            "}\n"
          ]
        }
      ]
    }
  ]
}